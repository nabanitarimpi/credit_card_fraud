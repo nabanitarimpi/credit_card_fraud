{
 "cells": [
  {
   "cell_type": "code",
   "execution_count": 1,
   "metadata": {},
   "outputs": [],
   "source": [
    "# import all libraries\n",
    "\n",
    "import pandas as pd\n",
    "import numpy as np\n",
    "import matplotlib.pyplot as plt\n",
    "import seaborn as sns\n",
    "\n",
    "from sklearn.preprocessing import StandardScaler\n",
    "from sklearn.model_selection import train_test_split\n",
    "from sklearn.linear_model import LogisticRegression\n",
    "from sklearn.pipeline import Pipeline\n",
    "from sklearn.metrics import classification_report,confusion_matrix,plot_confusion_matrix\n",
    "from sklearn.metrics import accuracy_score,precision_score,recall_score,f1_score,log_loss\n",
    "from sklearn.metrics import roc_auc_score,average_precision_score\n",
    "from sklearn.metrics import plot_roc_curve,plot_precision_recall_curve\n",
    "\n",
    "from imblearn.under_sampling import RandomUnderSampler\n",
    "from imblearn.over_sampling import RandomOverSampler,SMOTE\n",
    "\n",
    "\n",
    "from collections import Counter\n",
    "import joblib\n",
    "import warnings\n",
    "warnings.filterwarnings(\"ignore\")"
   ]
  },
  {
   "cell_type": "code",
   "execution_count": 2,
   "metadata": {},
   "outputs": [],
   "source": [
    "# load the data\n",
    "\n",
    "df = pd.read_csv(\"creditcard.csv\")"
   ]
  },
  {
   "cell_type": "code",
   "execution_count": 3,
   "metadata": {},
   "outputs": [
    {
     "name": "stdout",
     "output_type": "stream",
     "text": [
      "The shape of the dataframe is: (284807, 31)\n"
     ]
    }
   ],
   "source": [
    "print(\"The shape of the dataframe is: {}\".format(df.shape))"
   ]
  },
  {
   "cell_type": "code",
   "execution_count": 4,
   "metadata": {},
   "outputs": [
    {
     "data": {
      "text/html": [
       "<div>\n",
       "<style scoped>\n",
       "    .dataframe tbody tr th:only-of-type {\n",
       "        vertical-align: middle;\n",
       "    }\n",
       "\n",
       "    .dataframe tbody tr th {\n",
       "        vertical-align: top;\n",
       "    }\n",
       "\n",
       "    .dataframe thead th {\n",
       "        text-align: right;\n",
       "    }\n",
       "</style>\n",
       "<table border=\"1\" class=\"dataframe\">\n",
       "  <thead>\n",
       "    <tr style=\"text-align: right;\">\n",
       "      <th></th>\n",
       "      <th>Time</th>\n",
       "      <th>V1</th>\n",
       "      <th>V2</th>\n",
       "      <th>V3</th>\n",
       "      <th>V4</th>\n",
       "      <th>V5</th>\n",
       "      <th>V6</th>\n",
       "      <th>V7</th>\n",
       "      <th>V8</th>\n",
       "      <th>V9</th>\n",
       "      <th>...</th>\n",
       "      <th>V21</th>\n",
       "      <th>V22</th>\n",
       "      <th>V23</th>\n",
       "      <th>V24</th>\n",
       "      <th>V25</th>\n",
       "      <th>V26</th>\n",
       "      <th>V27</th>\n",
       "      <th>V28</th>\n",
       "      <th>Amount</th>\n",
       "      <th>Class</th>\n",
       "    </tr>\n",
       "  </thead>\n",
       "  <tbody>\n",
       "    <tr>\n",
       "      <th>0</th>\n",
       "      <td>0.0</td>\n",
       "      <td>-1.359807</td>\n",
       "      <td>-0.072781</td>\n",
       "      <td>2.536347</td>\n",
       "      <td>1.378155</td>\n",
       "      <td>-0.338321</td>\n",
       "      <td>0.462388</td>\n",
       "      <td>0.239599</td>\n",
       "      <td>0.098698</td>\n",
       "      <td>0.363787</td>\n",
       "      <td>...</td>\n",
       "      <td>-0.018307</td>\n",
       "      <td>0.277838</td>\n",
       "      <td>-0.110474</td>\n",
       "      <td>0.066928</td>\n",
       "      <td>0.128539</td>\n",
       "      <td>-0.189115</td>\n",
       "      <td>0.133558</td>\n",
       "      <td>-0.021053</td>\n",
       "      <td>149.62</td>\n",
       "      <td>0</td>\n",
       "    </tr>\n",
       "    <tr>\n",
       "      <th>1</th>\n",
       "      <td>0.0</td>\n",
       "      <td>1.191857</td>\n",
       "      <td>0.266151</td>\n",
       "      <td>0.166480</td>\n",
       "      <td>0.448154</td>\n",
       "      <td>0.060018</td>\n",
       "      <td>-0.082361</td>\n",
       "      <td>-0.078803</td>\n",
       "      <td>0.085102</td>\n",
       "      <td>-0.255425</td>\n",
       "      <td>...</td>\n",
       "      <td>-0.225775</td>\n",
       "      <td>-0.638672</td>\n",
       "      <td>0.101288</td>\n",
       "      <td>-0.339846</td>\n",
       "      <td>0.167170</td>\n",
       "      <td>0.125895</td>\n",
       "      <td>-0.008983</td>\n",
       "      <td>0.014724</td>\n",
       "      <td>2.69</td>\n",
       "      <td>0</td>\n",
       "    </tr>\n",
       "    <tr>\n",
       "      <th>2</th>\n",
       "      <td>1.0</td>\n",
       "      <td>-1.358354</td>\n",
       "      <td>-1.340163</td>\n",
       "      <td>1.773209</td>\n",
       "      <td>0.379780</td>\n",
       "      <td>-0.503198</td>\n",
       "      <td>1.800499</td>\n",
       "      <td>0.791461</td>\n",
       "      <td>0.247676</td>\n",
       "      <td>-1.514654</td>\n",
       "      <td>...</td>\n",
       "      <td>0.247998</td>\n",
       "      <td>0.771679</td>\n",
       "      <td>0.909412</td>\n",
       "      <td>-0.689281</td>\n",
       "      <td>-0.327642</td>\n",
       "      <td>-0.139097</td>\n",
       "      <td>-0.055353</td>\n",
       "      <td>-0.059752</td>\n",
       "      <td>378.66</td>\n",
       "      <td>0</td>\n",
       "    </tr>\n",
       "    <tr>\n",
       "      <th>3</th>\n",
       "      <td>1.0</td>\n",
       "      <td>-0.966272</td>\n",
       "      <td>-0.185226</td>\n",
       "      <td>1.792993</td>\n",
       "      <td>-0.863291</td>\n",
       "      <td>-0.010309</td>\n",
       "      <td>1.247203</td>\n",
       "      <td>0.237609</td>\n",
       "      <td>0.377436</td>\n",
       "      <td>-1.387024</td>\n",
       "      <td>...</td>\n",
       "      <td>-0.108300</td>\n",
       "      <td>0.005274</td>\n",
       "      <td>-0.190321</td>\n",
       "      <td>-1.175575</td>\n",
       "      <td>0.647376</td>\n",
       "      <td>-0.221929</td>\n",
       "      <td>0.062723</td>\n",
       "      <td>0.061458</td>\n",
       "      <td>123.50</td>\n",
       "      <td>0</td>\n",
       "    </tr>\n",
       "    <tr>\n",
       "      <th>4</th>\n",
       "      <td>2.0</td>\n",
       "      <td>-1.158233</td>\n",
       "      <td>0.877737</td>\n",
       "      <td>1.548718</td>\n",
       "      <td>0.403034</td>\n",
       "      <td>-0.407193</td>\n",
       "      <td>0.095921</td>\n",
       "      <td>0.592941</td>\n",
       "      <td>-0.270533</td>\n",
       "      <td>0.817739</td>\n",
       "      <td>...</td>\n",
       "      <td>-0.009431</td>\n",
       "      <td>0.798278</td>\n",
       "      <td>-0.137458</td>\n",
       "      <td>0.141267</td>\n",
       "      <td>-0.206010</td>\n",
       "      <td>0.502292</td>\n",
       "      <td>0.219422</td>\n",
       "      <td>0.215153</td>\n",
       "      <td>69.99</td>\n",
       "      <td>0</td>\n",
       "    </tr>\n",
       "  </tbody>\n",
       "</table>\n",
       "<p>5 rows × 31 columns</p>\n",
       "</div>"
      ],
      "text/plain": [
       "   Time        V1        V2        V3        V4        V5        V6        V7  \\\n",
       "0   0.0 -1.359807 -0.072781  2.536347  1.378155 -0.338321  0.462388  0.239599   \n",
       "1   0.0  1.191857  0.266151  0.166480  0.448154  0.060018 -0.082361 -0.078803   \n",
       "2   1.0 -1.358354 -1.340163  1.773209  0.379780 -0.503198  1.800499  0.791461   \n",
       "3   1.0 -0.966272 -0.185226  1.792993 -0.863291 -0.010309  1.247203  0.237609   \n",
       "4   2.0 -1.158233  0.877737  1.548718  0.403034 -0.407193  0.095921  0.592941   \n",
       "\n",
       "         V8        V9  ...       V21       V22       V23       V24       V25  \\\n",
       "0  0.098698  0.363787  ... -0.018307  0.277838 -0.110474  0.066928  0.128539   \n",
       "1  0.085102 -0.255425  ... -0.225775 -0.638672  0.101288 -0.339846  0.167170   \n",
       "2  0.247676 -1.514654  ...  0.247998  0.771679  0.909412 -0.689281 -0.327642   \n",
       "3  0.377436 -1.387024  ... -0.108300  0.005274 -0.190321 -1.175575  0.647376   \n",
       "4 -0.270533  0.817739  ... -0.009431  0.798278 -0.137458  0.141267 -0.206010   \n",
       "\n",
       "        V26       V27       V28  Amount  Class  \n",
       "0 -0.189115  0.133558 -0.021053  149.62      0  \n",
       "1  0.125895 -0.008983  0.014724    2.69      0  \n",
       "2 -0.139097 -0.055353 -0.059752  378.66      0  \n",
       "3 -0.221929  0.062723  0.061458  123.50      0  \n",
       "4  0.502292  0.219422  0.215153   69.99      0  \n",
       "\n",
       "[5 rows x 31 columns]"
      ]
     },
     "execution_count": 4,
     "metadata": {},
     "output_type": "execute_result"
    }
   ],
   "source": [
    "# first few entries of the dataset\n",
    "\n",
    "df.head()"
   ]
  },
  {
   "cell_type": "code",
   "execution_count": 5,
   "metadata": {},
   "outputs": [
    {
     "name": "stdout",
     "output_type": "stream",
     "text": [
      "<class 'pandas.core.frame.DataFrame'>\n",
      "RangeIndex: 284807 entries, 0 to 284806\n",
      "Data columns (total 31 columns):\n",
      " #   Column  Non-Null Count   Dtype  \n",
      "---  ------  --------------   -----  \n",
      " 0   Time    284807 non-null  float64\n",
      " 1   V1      284807 non-null  float64\n",
      " 2   V2      284807 non-null  float64\n",
      " 3   V3      284807 non-null  float64\n",
      " 4   V4      284807 non-null  float64\n",
      " 5   V5      284807 non-null  float64\n",
      " 6   V6      284807 non-null  float64\n",
      " 7   V7      284807 non-null  float64\n",
      " 8   V8      284807 non-null  float64\n",
      " 9   V9      284807 non-null  float64\n",
      " 10  V10     284807 non-null  float64\n",
      " 11  V11     284807 non-null  float64\n",
      " 12  V12     284807 non-null  float64\n",
      " 13  V13     284807 non-null  float64\n",
      " 14  V14     284807 non-null  float64\n",
      " 15  V15     284807 non-null  float64\n",
      " 16  V16     284807 non-null  float64\n",
      " 17  V17     284807 non-null  float64\n",
      " 18  V18     284807 non-null  float64\n",
      " 19  V19     284807 non-null  float64\n",
      " 20  V20     284807 non-null  float64\n",
      " 21  V21     284807 non-null  float64\n",
      " 22  V22     284807 non-null  float64\n",
      " 23  V23     284807 non-null  float64\n",
      " 24  V24     284807 non-null  float64\n",
      " 25  V25     284807 non-null  float64\n",
      " 26  V26     284807 non-null  float64\n",
      " 27  V27     284807 non-null  float64\n",
      " 28  V28     284807 non-null  float64\n",
      " 29  Amount  284807 non-null  float64\n",
      " 30  Class   284807 non-null  int64  \n",
      "dtypes: float64(30), int64(1)\n",
      "memory usage: 67.4 MB\n"
     ]
    }
   ],
   "source": [
    "# overview of the dataset\n",
    "\n",
    "df.info()"
   ]
  },
  {
   "cell_type": "code",
   "execution_count": 6,
   "metadata": {},
   "outputs": [
    {
     "data": {
      "text/plain": [
       "False"
      ]
     },
     "execution_count": 6,
     "metadata": {},
     "output_type": "execute_result"
    }
   ],
   "source": [
    "# null values present in the dataset (if any)\n",
    "\n",
    "df.isnull().sum().any()"
   ]
  },
  {
   "cell_type": "code",
   "execution_count": 7,
   "metadata": {},
   "outputs": [],
   "source": [
    "# unique values in each feature\n",
    "\n",
    "#df.nunique()"
   ]
  },
  {
   "cell_type": "code",
   "execution_count": 8,
   "metadata": {},
   "outputs": [],
   "source": [
    "#df['Time'].value_counts(normalize=True)"
   ]
  },
  {
   "cell_type": "code",
   "execution_count": 8,
   "metadata": {},
   "outputs": [
    {
     "name": "stdout",
     "output_type": "stream",
     "text": [
      "Feature: V1, Min: -56.407509631329, Max: 2.45492999121121\n",
      "Feature: V2, Min: -72.7157275629303, Max: 22.0577289904909\n",
      "Feature: V3, Min: -48.3255893623954, Max: 9.38255843282114\n",
      "Feature: V4, Min: -5.68317119816995, Max: 16.8753440335975\n",
      "Feature: V5, Min: -113.743306711146, Max: 34.8016658766686\n",
      "Feature: V6, Min: -26.1605059358433, Max: 73.3016255459646\n",
      "Feature: V7, Min: -43.5572415712451, Max: 120.589493945238\n",
      "Feature: V8, Min: -73.2167184552674, Max: 20.0072083651213\n",
      "Feature: V9, Min: -13.4340663182301, Max: 15.5949946071278\n",
      "Feature: V10, Min: -24.5882624372475, Max: 23.7451361206545\n",
      "Feature: V11, Min: -4.79747346479757, Max: 12.0189131816199\n",
      "Feature: V12, Min: -18.6837146333443, Max: 7.8483920756446\n",
      "Feature: V13, Min: -5.79188120632084, Max: 7.12688295859376\n",
      "Feature: V14, Min: -19.2143254902614, Max: 10.5267660517847\n",
      "Feature: V15, Min: -4.49894467676621, Max: 8.87774159774277\n",
      "Feature: V16, Min: -14.1298545174931, Max: 17.3151115176278\n",
      "Feature: V17, Min: -25.1627993693248, Max: 9.25352625047285\n",
      "Feature: V18, Min: -9.49874592104677, Max: 5.04106918541184\n",
      "Feature: V19, Min: -7.21352743017759, Max: 5.59197142733558\n",
      "Feature: V20, Min: -54.497720494566, Max: 39.4209042482199\n",
      "Feature: V21, Min: -34.8303821448146, Max: 27.2028391573154\n",
      "Feature: V22, Min: -10.933143697655, Max: 10.5030900899454\n",
      "Feature: V23, Min: -44.8077352037913, Max: 22.5284116897749\n",
      "Feature: V24, Min: -2.83662691870341, Max: 4.58454913689817\n",
      "Feature: V25, Min: -10.2953970749851, Max: 7.51958867870916\n",
      "Feature: V26, Min: -2.60455055280817, Max: 3.5173456116238\n",
      "Feature: V27, Min: -22.5656793207827, Max: 31.6121981061363\n",
      "Feature: V28, Min: -15.4300839055349, Max: 33.8478078188831\n"
     ]
    }
   ],
   "source": [
    "anno_feats = list(df.columns)[1:29]\n",
    "\n",
    "for feat in anno_feats:\n",
    "    print(\"Feature: {}, Min: {}, Max: {}\".format(feat,df[feat].min(),df[feat].max()))"
   ]
  },
  {
   "cell_type": "code",
   "execution_count": 9,
   "metadata": {},
   "outputs": [
    {
     "name": "stdout",
     "output_type": "stream",
     "text": [
      "Feature: Time, Min: 0.0, Max: 172792.0\n",
      "Feature: Amount, Min: 0.0, Max: 25691.16\n"
     ]
    }
   ],
   "source": [
    "print(\"Feature: {}, Min: {}, Max: {}\".format('Time',df['Time'].min(),df['Time'].max()))\n",
    "print(\"Feature: {}, Min: {}, Max: {}\".format('Amount',df['Amount'].min(),df['Amount'].max()))"
   ]
  },
  {
   "cell_type": "code",
   "execution_count": 10,
   "metadata": {},
   "outputs": [
    {
     "data": {
      "text/plain": [
       "0    0.998273\n",
       "1    0.001727\n",
       "Name: Class, dtype: float64"
      ]
     },
     "execution_count": 10,
     "metadata": {},
     "output_type": "execute_result"
    }
   ],
   "source": [
    "# Class distribution in the target variable\n",
    "\n",
    "df['Class'].value_counts(normalize=True)"
   ]
  },
  {
   "cell_type": "code",
   "execution_count": 11,
   "metadata": {},
   "outputs": [
    {
     "data": {
      "image/png": "[encoded data removed]",
      "text/plain": [
       "<Figure size 432x288 with 1 Axes>"
      ]
     },
     "metadata": {
      "needs_background": "light"
     },
     "output_type": "display_data"
    }
   ],
   "source": [
    "# visualize the class distribution\n",
    "\n",
    "sns.countplot(df['Class'])\n",
    "plt.yscale('log')"
   ]
  },
  {
   "cell_type": "markdown",
   "metadata": {},
   "source": [
    "**Class 0: negative/majority class**\n",
    "\n",
    "**Class 1: positive/minority class**"
   ]
  },
  {
   "cell_type": "code",
   "execution_count": 12,
   "metadata": {},
   "outputs": [
    {
     "data": {
      "text/plain": [
       "<AxesSubplot:xlabel='Class', ylabel='Amount'>"
      ]
     },
     "execution_count": 12,
     "metadata": {},
     "output_type": "execute_result"
    },
    {
     "data": {
      "image/png": "[encoded data removed]",
      "text/plain": [
       "<Figure size 432x288 with 1 Axes>"
      ]
     },
     "metadata": {
      "needs_background": "light"
     },
     "output_type": "display_data"
    }
   ],
   "source": [
    "# Class vs Amount plot\n",
    "\n",
    "sns.barplot('Class','Amount',data=df)"
   ]
  },
  {
   "cell_type": "code",
   "execution_count": 13,
   "metadata": {},
   "outputs": [
    {
     "data": {
      "text/plain": [
       "<AxesSubplot:xlabel='Class', ylabel='Time'>"
      ]
     },
     "execution_count": 13,
     "metadata": {},
     "output_type": "execute_result"
    },
    {
     "data": {
      "image/png": "[encoded data removed]",
      "text/plain": [
       "<Figure size 432x288 with 1 Axes>"
      ]
     },
     "metadata": {
      "needs_background": "light"
     },
     "output_type": "display_data"
    }
   ],
   "source": [
    "# Class vs Time plot\n",
    "\n",
    "sns.barplot('Class','Time',data=df)"
   ]
  },
  {
   "cell_type": "code",
   "execution_count": 14,
   "metadata": {},
   "outputs": [],
   "source": [
    "# feature matrix\n",
    "X = df.drop('Class',axis=1)\n",
    "\n",
    "# target vector\n",
    "y = df[['Class']]"
   ]
  },
  {
   "cell_type": "code",
   "execution_count": 15,
   "metadata": {},
   "outputs": [],
   "source": [
    "# split into train and test datasets\n",
    "\n",
    "X_train,X_test,y_train,y_test = train_test_split(X,y,test_size=0.1,random_state=11,stratify=y)"
   ]
  },
  {
   "cell_type": "code",
   "execution_count": 16,
   "metadata": {},
   "outputs": [
    {
     "name": "stdout",
     "output_type": "stream",
     "text": [
      "The shape of the training dataset: (256326, 30)\n",
      "The shape of the test dataset: (28481, 30)\n"
     ]
    }
   ],
   "source": [
    "print(\"The shape of the training dataset: {}\".format(X_train.shape))\n",
    "print(\"The shape of the test dataset: {}\".format(X_test.shape))"
   ]
  },
  {
   "cell_type": "code",
   "execution_count": 17,
   "metadata": {},
   "outputs": [
    {
     "name": "stdout",
     "output_type": "stream",
     "text": [
      "Train Set\n",
      "Class\n",
      "0        0.998272\n",
      "1        0.001728\n",
      "dtype: float64\n",
      " \n",
      "Test Set\n",
      "Class\n",
      "0        0.99828\n",
      "1        0.00172\n",
      "dtype: float64\n"
     ]
    }
   ],
   "source": [
    "# class distribution in the splitted datasets\n",
    "\n",
    "print(\"Train Set\")\n",
    "print(y_train.value_counts(normalize=True))\n",
    "print(\" \")\n",
    "print(\"Test Set\")\n",
    "print(y_test.value_counts(normalize=True))"
   ]
  },
  {
   "cell_type": "code",
   "execution_count": 18,
   "metadata": {},
   "outputs": [],
   "source": [
    "def build_pipeline(X_train,y_train):\n",
    "    \n",
    "    \"\"\"\n",
    "    A fuction to build a pipeline and fit the pipeline to the data.\n",
    "    \n",
    "    Parameters\n",
    "    ------------\n",
    "    steps: list\n",
    "        a list containing all the steps of the pipeline\n",
    "        \n",
    "    X_train: pandas dataframe\n",
    "        the input feature matrix (training)\n",
    "        \n",
    "    y_train: pandas dataframe\n",
    "        the target vector (training)\n",
    "\n",
    "    Returns\n",
    "    ---------\n",
    "    pipeline: scikit-learn pipeline object\n",
    "        the pipeline fitted to the input data\n",
    "    \n",
    "    \"\"\"\n",
    "    \n",
    "    # build the pipeline with two steps -> 1. standard scaling all the features, 2. the classifier and fit it to the\n",
    "    # training dataset\n",
    "\n",
    "    steps = [('scaler',StandardScaler()),\n",
    "             ('clf',LogisticRegression(random_state=12))]\n",
    "    \n",
    "    pipeline = Pipeline(steps=steps)\n",
    "        \n",
    "    # fit the pipeline to the training dataset\n",
    "    pipeline.fit(X_train,y_train)\n",
    "    \n",
    "    return pipeline\n",
    "\n",
    "def eval_model(pipeline,X_train,X_test,y_train,y_test):\n",
    "    \n",
    "    \"\"\"\n",
    "    A function to evaluate a classifier and visualize its performance.\n",
    "    \n",
    "    Parameters\n",
    "    ------------\n",
    "    pipeline: scikit-learn pipeline object\n",
    "        the pipeline fitted to the input data\n",
    "        \n",
    "    X_train: pandas dataframe\n",
    "        the input feature matrix (training)\n",
    "        \n",
    "    X_test: pandas dataframe\n",
    "        the input feature matrix (testing)   \n",
    "        \n",
    "    y_train: pandas dataframe\n",
    "        the target vector (training)  \n",
    "        \n",
    "    y_test: pandas dataframe\n",
    "        the target vector (testing)      \n",
    "        \n",
    "    Returns\n",
    "    ---------\n",
    "    None\n",
    "    \n",
    "    \"\"\"\n",
    "    \n",
    "    # predict on the train set\n",
    "    pred_train = pipeline.predict(X_train)\n",
    "\n",
    "    # compute different metrics\n",
    "    clf_report_train = classification_report(y_train,pred_train)\n",
    "\n",
    "    # compute TP,TN,FP,FN\n",
    "    conf_mat_train = confusion_matrix(y_train,pred_train)\n",
    "    \n",
    "    # predict on the train set\n",
    "    pred_test = pipeline.predict(X_test)\n",
    "\n",
    "    # compute different metrics\n",
    "    clf_report_test = classification_report(y_test,pred_test)\n",
    "\n",
    "    # compute TP,TN,FP,FN\n",
    "    conf_mat_test = confusion_matrix(y_test,pred_test)\n",
    "    \n",
    "    print(\"The train set:\")\n",
    "    print(clf_report_train)\n",
    "    print(\"\\n\")\n",
    "    print(conf_mat_train)\n",
    "    print(\"\\n\")\n",
    "    \n",
    "    print(\"The test set:\")\n",
    "    print(clf_report_test)\n",
    "    print(\"\\n\")\n",
    "    print(conf_mat_test)\n",
    "    \n",
    "    # plot the confusion matrix\n",
    "\n",
    "    f, ax = plt.subplots(1,2,sharey='row',figsize=(10,8))\n",
    "\n",
    "    plot_confusion_matrix(pipeline,X_train,y_train,cmap=plt.cm.Blues,ax=ax[0],colorbar=False)\n",
    "    plot_confusion_matrix(pipeline,X_test,y_test,cmap=plt.cm.Blues,ax=ax[1])\n",
    "\n",
    "    plt.show()\n",
    "    \n",
    "    \n",
    "def compute_loss_roc_pr_auc(pipeline,X_test,y_test):\n",
    "    \n",
    "    \"\"\"\n",
    "    A function to compute and plot ROC and PR AUC.\n",
    "    \n",
    "    Parameters\n",
    "    ------------\n",
    "    pipeline: scikit-learn pipeline object\n",
    "        the pipeline fitted to the input data\n",
    "\n",
    "    X_test: pandas dataframe\n",
    "        the input feature matrix (testing)   \n",
    "\n",
    "    y_test: pandas dataframe\n",
    "        the target vector (testing)      \n",
    "        \n",
    "    Returns\n",
    "    ---------\n",
    "    None\n",
    "    \n",
    "    \"\"\"\n",
    "    \n",
    "    # compute predicted probabilities\n",
    "    pred_test_prob = pipeline.predict_proba(X_test)\n",
    "\n",
    "    # compute the ROC AUC score\n",
    "    roc_score = roc_auc_score(y_test,pred_test_prob[:,1])\n",
    "\n",
    "    # compute the PR AUC score\n",
    "    pr_score = average_precision_score(y_test,pred_test_prob[:,1])\n",
    "    \n",
    "    # compute the loss function\n",
    "    loss_score = log_loss(y_test,pred_test_prob[:,1])\n",
    "\n",
    "    print(\"ROC AUC score for the test set: {}\".format(roc_score))\n",
    "    print(\"PR AUC score for the test set: {}\".format(pr_score))\n",
    "    print(\"Log loss score for the test set: {}\".format(loss_score))\n",
    "\n",
    "    \n",
    "    f, ax = plt.subplots(1,2,sharey='row',figsize=(12,10))\n",
    "\n",
    "    plot_roc_curve(pipeline,X_test,y_test,ax=ax[0])\n",
    "    plot_precision_recall_curve(pipeline,X_test,y_test,ax=ax[1])\n",
    "    plt.show()"
   ]
  },
  {
   "cell_type": "markdown",
   "metadata": {},
   "source": [
    "## No data resampling"
   ]
  },
  {
   "cell_type": "code",
   "execution_count": 20,
   "metadata": {},
   "outputs": [
    {
     "name": "stdout",
     "output_type": "stream",
     "text": [
      "The train set:\n",
      "              precision    recall  f1-score   support\n",
      "\n",
      "           0       1.00      1.00      1.00    255883\n",
      "           1       0.88      0.63      0.73       443\n",
      "\n",
      "    accuracy                           1.00    256326\n",
      "   macro avg       0.94      0.81      0.87    256326\n",
      "weighted avg       1.00      1.00      1.00    256326\n",
      "\n",
      "\n",
      "\n",
      "[[255845     38]\n",
      " [   166    277]]\n",
      "\n",
      "\n",
      "The test set:\n",
      "              precision    recall  f1-score   support\n",
      "\n",
      "           0       1.00      1.00      1.00     28432\n",
      "           1       0.86      0.65      0.74        49\n",
      "\n",
      "    accuracy                           1.00     28481\n",
      "   macro avg       0.93      0.83      0.87     28481\n",
      "weighted avg       1.00      1.00      1.00     28481\n",
      "\n",
      "\n",
      "\n",
      "[[28427     5]\n",
      " [   17    32]]\n"
     ]
    },
    {
     "data": {
      "image/png": "[encoded data removed]",
      "text/plain": [
       "<Figure size 720x576 with 3 Axes>"
      ]
     },
     "metadata": {
      "needs_background": "light"
     },
     "output_type": "display_data"
    },
    {
     "name": "stdout",
     "output_type": "stream",
     "text": [
      "ROC AUC score for the test set: 0.9878700917620847\n",
      "PR AUC score for the test set: 0.8110241195315762\n",
      "Log loss score for the test set: 0.0036722440534783466\n"
     ]
    },
    {
     "data": {
      "image/png": "[encoded data removed]",
      "text/plain": [
       "<Figure size 864x720 with 2 Axes>"
      ]
     },
     "metadata": {
      "needs_background": "light"
     },
     "output_type": "display_data"
    }
   ],
   "source": [
    "pipeline = build_pipeline(X_train=X_train,y_train=y_train)\n",
    "\n",
    "# evaluate the performance of the model\n",
    "\n",
    "eval_model(pipeline,X_train, X_test, y_train, y_test)\n",
    "\n",
    "# ROC and PR plots and AUC scores\n",
    "\n",
    "compute_loss_roc_pr_auc(pipeline,X_test,y_test)"
   ]
  },
  {
   "cell_type": "markdown",
   "metadata": {},
   "source": [
    "## Class Resampling"
   ]
  },
  {
   "cell_type": "code",
   "execution_count": 29,
   "metadata": {},
   "outputs": [
    {
     "name": "stdout",
     "output_type": "stream",
     "text": [
      "Class distribution before oversampling the minority class:\n",
      " Counter({0: 255883, 1: 443})\n",
      "\n",
      "Class distribution after oversampling the minority class:\n",
      " Counter({0: 255883, 1: 255883})\n",
      "\n",
      "Class distribution after oversampling the minority class:\n",
      " Counter({0: 255883, 1: 25588})\n",
      "\n"
     ]
    }
   ],
   "source": [
    "# random over sampling the minority class\n",
    "\n",
    "print(\"Class distribution before oversampling the minority class:\\n {}\\n\".format(Counter(y_train['Class'].values)))\n",
    "\n",
    "# strategy -> 'minority'\n",
    "oversampler = RandomOverSampler(sampling_strategy='minority',random_state=22)\n",
    "X_train_over, y_train_over = oversampler.fit_resample(X_train,y_train['Class'].values)\n",
    "print(\"Class distribution after oversampling the minority class:\\n {}\\n\".format(Counter(y_train_over)))\n",
    "\n",
    "# strategy -> 0.1\n",
    "oversampler = RandomOverSampler(sampling_strategy=0.1,random_state=22)\n",
    "X_train_over, y_train_over = oversampler.fit_resample(X_train,y_train['Class'].values)\n",
    "print(\"Class distribution after oversampling the minority class:\\n {}\\n\".format(Counter(y_train_over)))"
   ]
  },
  {
   "cell_type": "code",
   "execution_count": 22,
   "metadata": {},
   "outputs": [
    {
     "name": "stdout",
     "output_type": "stream",
     "text": [
      "Class distribution after undersampling the majority class:\n",
      " Counter({0: 25588, 1: 25588})\n",
      "\n",
      "Class distribution after undersampling the majority class:\n",
      " Counter({0: 42646, 1: 25588})\n"
     ]
    }
   ],
   "source": [
    "# random under sampling the majority class\n",
    "\n",
    "# strategy -> 'majority'\n",
    "undersampler = RandomUnderSampler(sampling_strategy='majority',random_state=22)\n",
    "X_train_under, y_train_under = undersampler.fit_resample(X_train_over,y_train_over)\n",
    "print(\"Class distribution after undersampling the majority class:\\n {}\\n\".format(Counter(y_train_under)))\n",
    "\n",
    "# strategy -> 0.6\n",
    "undersampler = RandomUnderSampler(sampling_strategy=0.6,random_state=22)\n",
    "X_train_under, y_train_under = undersampler.fit_resample(X_train_over,y_train_over)\n",
    "print(\"Class distribution after undersampling the majority class:\\n {}\".format(Counter(y_train_under)))"
   ]
  },
  {
   "cell_type": "markdown",
   "metadata": {},
   "source": [
    "### 1. Oversampling the minority class & undersampling the majority class"
   ]
  },
  {
   "cell_type": "code",
   "execution_count": 24,
   "metadata": {},
   "outputs": [
    {
     "name": "stdout",
     "output_type": "stream",
     "text": [
      "The train set:\n",
      "              precision    recall  f1-score   support\n",
      "\n",
      "           0       1.00      0.99      0.99    255883\n",
      "           1       0.11      0.91      0.20       443\n",
      "\n",
      "    accuracy                           0.99    256326\n",
      "   macro avg       0.56      0.95      0.60    256326\n",
      "weighted avg       1.00      0.99      0.99    256326\n",
      "\n",
      "\n",
      "\n",
      "[[252659   3224]\n",
      " [    40    403]]\n",
      "\n",
      "\n",
      "The test set:\n",
      "              precision    recall  f1-score   support\n",
      "\n",
      "           0       1.00      0.99      0.99     28432\n",
      "           1       0.11      0.94      0.20        49\n",
      "\n",
      "    accuracy                           0.99     28481\n",
      "   macro avg       0.56      0.96      0.60     28481\n",
      "weighted avg       1.00      0.99      0.99     28481\n",
      "\n",
      "\n",
      "\n",
      "[[28062   370]\n",
      " [    3    46]]\n"
     ]
    },
    {
     "data": {
      "image/png": "[encoded data removed]",
      "text/plain": [
       "<Figure size 720x576 with 3 Axes>"
      ]
     },
     "metadata": {
      "needs_background": "light"
     },
     "output_type": "display_data"
    },
    {
     "name": "stdout",
     "output_type": "stream",
     "text": [
      "ROC AUC score for the test set: 0.9841354380806908\n",
      "PR AUC score for the test set: 0.7373726866511373\n",
      "Log loss score for the test set: 0.07686714470512519\n"
     ]
    },
    {
     "data": {
      "image/png": "[encoded data removed]",
      "text/plain": [
       "<Figure size 864x720 with 2 Axes>"
      ]
     },
     "metadata": {
      "needs_background": "light"
     },
     "output_type": "display_data"
    }
   ],
   "source": [
    "# define the sampling strategy\n",
    "\n",
    "oversampler = RandomOverSampler(sampling_strategy=0.1,random_state=22)\n",
    "undersampler = RandomUnderSampler(sampling_strategy=0.6,random_state=22)\n",
    "\n",
    "# fit the oversampler to the training set and resample it\n",
    "X_train_over, y_train_over = oversampler.fit_resample(X_train,y_train['Class'].values)\n",
    "\n",
    "# fit the undersampler to the training set and resample it\n",
    "X_train_final, y_train_final = undersampler.fit_resample(X_train_over,y_train_over)\n",
    "\n",
    "# build the pipeline and fit it to the training set\n",
    "\n",
    "pipeline = build_pipeline(X_train=X_train_final,y_train=y_train_final)\n",
    "\n",
    "# evaluate the performance of the model\n",
    "\n",
    "eval_model(pipeline,X_train, X_test, y_train, y_test)\n",
    "\n",
    "# ROC and PR plots and AUC scores\n",
    "\n",
    "compute_loss_roc_pr_auc(pipeline,X_test,y_test)"
   ]
  },
  {
   "cell_type": "markdown",
   "metadata": {},
   "source": [
    "### 3. Oversampling the minority class using SMOTE technique"
   ]
  },
  {
   "cell_type": "code",
   "execution_count": 26,
   "metadata": {},
   "outputs": [
    {
     "name": "stdout",
     "output_type": "stream",
     "text": [
      "The train set:\n",
      "              precision    recall  f1-score   support\n",
      "\n",
      "           0       1.00      0.99      1.00    255883\n",
      "           1       0.14      0.90      0.24       443\n",
      "\n",
      "    accuracy                           0.99    256326\n",
      "   macro avg       0.57      0.94      0.62    256326\n",
      "weighted avg       1.00      0.99      0.99    256326\n",
      "\n",
      "\n",
      "\n",
      "[[253465   2418]\n",
      " [    46    397]]\n",
      "\n",
      "\n",
      "The test set:\n",
      "              precision    recall  f1-score   support\n",
      "\n",
      "           0       1.00      0.99      1.00     28432\n",
      "           1       0.15      0.94      0.26        49\n",
      "\n",
      "    accuracy                           0.99     28481\n",
      "   macro avg       0.57      0.96      0.63     28481\n",
      "weighted avg       1.00      0.99      0.99     28481\n",
      "\n",
      "\n",
      "\n",
      "[[28169   263]\n",
      " [    3    46]]\n"
     ]
    },
    {
     "data": {
      "image/png": "[encoded data removed]",
      "text/plain": [
       "<Figure size 720x576 with 3 Axes>"
      ]
     },
     "metadata": {
      "needs_background": "light"
     },
     "output_type": "display_data"
    },
    {
     "name": "stdout",
     "output_type": "stream",
     "text": [
      "ROC AUC score for the test set: 0.9942799432659951\n",
      "PR AUC score for the test set: 0.7527796187642452\n",
      "Log loss score for the test set: 0.05270095031689522\n"
     ]
    },
    {
     "data": {
      "image/png": "[encoded data removed]",
      "text/plain": [
       "<Figure size 864x720 with 2 Axes>"
      ]
     },
     "metadata": {
      "needs_background": "light"
     },
     "output_type": "display_data"
    }
   ],
   "source": [
    "# define the sampling strategy\n",
    "\n",
    "oversampler = SMOTE(random_state=22)\n",
    "\n",
    "# fit the oversampler to the training set and resample it\n",
    "X_train_over, y_train_over = oversampler.fit_resample(X_train,y_train['Class'].values)\n",
    "\n",
    "# build the pipeline and fit it to the training set\n",
    "\n",
    "pipeline = build_pipeline(X_train=X_train_over,y_train=y_train_over)\n",
    "\n",
    "# evaluate the performance of the model\n",
    "\n",
    "eval_model(pipeline,X_train, X_test, y_train, y_test)\n",
    "\n",
    "# ROC and PR plots and AUC scores\n",
    "\n",
    "compute_loss_roc_pr_auc(pipeline,X_test,y_test)"
   ]
  },
  {
   "cell_type": "markdown",
   "metadata": {},
   "source": [
    "### 3. Combining SMOTE and undersampling "
   ]
  },
  {
   "cell_type": "code",
   "execution_count": 27,
   "metadata": {},
   "outputs": [
    {
     "name": "stdout",
     "output_type": "stream",
     "text": [
      "The train set:\n",
      "              precision    recall  f1-score   support\n",
      "\n",
      "           0       1.00      0.99      1.00    255883\n",
      "           1       0.18      0.89      0.31       443\n",
      "\n",
      "    accuracy                           0.99    256326\n",
      "   macro avg       0.59      0.94      0.65    256326\n",
      "weighted avg       1.00      0.99      1.00    256326\n",
      "\n",
      "\n",
      "\n",
      "[[254147   1736]\n",
      " [    50    393]]\n",
      "\n",
      "\n",
      "The test set:\n",
      "              precision    recall  f1-score   support\n",
      "\n",
      "           0       1.00      0.99      1.00     28432\n",
      "           1       0.19      0.94      0.32        49\n",
      "\n",
      "    accuracy                           0.99     28481\n",
      "   macro avg       0.60      0.97      0.66     28481\n",
      "weighted avg       1.00      0.99      1.00     28481\n",
      "\n",
      "\n",
      "\n",
      "[[28239   193]\n",
      " [    3    46]]\n"
     ]
    },
    {
     "data": {
      "image/png": "[encoded data removed]",
      "text/plain": [
       "<Figure size 720x576 with 3 Axes>"
      ]
     },
     "metadata": {
      "needs_background": "light"
     },
     "output_type": "display_data"
    },
    {
     "name": "stdout",
     "output_type": "stream",
     "text": [
      "ROC AUC score for the test set: 0.9935068850275057\n",
      "PR AUC score for the test set: 0.7534643569099524\n",
      "Log loss score for the test set: 0.04170331722708014\n"
     ]
    },
    {
     "data": {
      "image/png": "[encoded data removed]",
      "text/plain": [
       "<Figure size 864x720 with 2 Axes>"
      ]
     },
     "metadata": {
      "needs_background": "light"
     },
     "output_type": "display_data"
    }
   ],
   "source": [
    "# define the sampling strategy\n",
    "\n",
    "oversampler = SMOTE(sampling_strategy=0.1,random_state=22)\n",
    "undersampler = RandomUnderSampler(sampling_strategy=0.6,random_state=22)\n",
    "\n",
    "# fit the oversampler to the training set and resample it\n",
    "X_train_over, y_train_over = oversampler.fit_resample(X_train,y_train['Class'].values)\n",
    "\n",
    "# fit the undersampler to the training set and resample it\n",
    "X_train_final, y_train_final = undersampler.fit_resample(X_train_over,y_train_over)\n",
    "\n",
    "# build the pipeline and fit it to the training set\n",
    "\n",
    "pipeline = build_pipeline(X_train=X_train_final,y_train=y_train_final)\n",
    "\n",
    "# evaluate the performance of the model\n",
    "\n",
    "eval_model(pipeline,X_train, X_test, y_train, y_test)\n",
    "\n",
    "# ROC and PR plots and AUC scores\n",
    "\n",
    "compute_loss_roc_pr_auc(pipeline,X_test,y_test)"
   ]
  },
  {
   "cell_type": "code",
   "execution_count": null,
   "metadata": {},
   "outputs": [],
   "source": []
  }
 ],
 "metadata": {
  "kernelspec": {
   "display_name": "Python 3",
   "language": "python",
   "name": "python3"
  },
  "language_info": {
   "codemirror_mode": {
    "name": "ipython",
    "version": 3
   },
   "file_extension": ".py",
   "mimetype": "text/x-python",
   "name": "python",
   "nbconvert_exporter": "python",
   "pygments_lexer": "ipython3",
   "version": "3.7.4"
  }
 },
 "nbformat": 4,
 "nbformat_minor": 4
}
